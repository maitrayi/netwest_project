{
 "cells": [
  {
   "cell_type": "code",
   "execution_count": 1,
   "metadata": {},
   "outputs": [],
   "source": [
    "import pandas as pd\n",
    "import csv\n",
    "import matplotlib.pyplot as plt\n",
    "import numpy as np\n",
    "import seaborn as sns\n",
    "import re"
   ]
  },
  {
   "cell_type": "code",
   "execution_count": 2,
   "metadata": {},
   "outputs": [],
   "source": [
    "data = 'data/calories_data_entry.csv'\n",
    "df = pd.read_csv(data)"
   ]
  },
  {
   "cell_type": "code",
   "execution_count": 3,
   "metadata": {},
   "outputs": [
    {
     "data": {
      "text/html": [
       "<div>\n",
       "<style scoped>\n",
       "    .dataframe tbody tr th:only-of-type {\n",
       "        vertical-align: middle;\n",
       "    }\n",
       "\n",
       "    .dataframe tbody tr th {\n",
       "        vertical-align: top;\n",
       "    }\n",
       "\n",
       "    .dataframe thead th {\n",
       "        text-align: right;\n",
       "    }\n",
       "</style>\n",
       "<table border=\"1\" class=\"dataframe\">\n",
       "  <thead>\n",
       "    <tr style=\"text-align: right;\">\n",
       "      <th></th>\n",
       "      <th>LineId</th>\n",
       "      <th>Time</th>\n",
       "      <th>Content</th>\n",
       "      <th>EventId</th>\n",
       "      <th>Date</th>\n",
       "    </tr>\n",
       "  </thead>\n",
       "  <tbody>\n",
       "    <tr>\n",
       "      <th>0</th>\n",
       "      <td>9</td>\n",
       "      <td>2017-12-23 22:15:29.645</td>\n",
       "      <td>calculateCaloriesWithCache totalCalories=126775</td>\n",
       "      <td>E4</td>\n",
       "      <td>2017-12-23</td>\n",
       "    </tr>\n",
       "    <tr>\n",
       "      <th>1</th>\n",
       "      <td>18</td>\n",
       "      <td>2017-12-23 22:15:29.959</td>\n",
       "      <td>calculateCaloriesWithCache totalCalories=126797</td>\n",
       "      <td>E4</td>\n",
       "      <td>2017-12-23</td>\n",
       "    </tr>\n",
       "    <tr>\n",
       "      <th>2</th>\n",
       "      <td>25</td>\n",
       "      <td>2017-12-23 22:15:30.639</td>\n",
       "      <td>calculateCaloriesWithCache totalCalories=126818</td>\n",
       "      <td>E4</td>\n",
       "      <td>2017-12-23</td>\n",
       "    </tr>\n",
       "    <tr>\n",
       "      <th>3</th>\n",
       "      <td>32</td>\n",
       "      <td>2017-12-23 22:15:31.157</td>\n",
       "      <td>calculateCaloriesWithCache totalCalories=126861</td>\n",
       "      <td>E4</td>\n",
       "      <td>2017-12-23</td>\n",
       "    </tr>\n",
       "    <tr>\n",
       "      <th>4</th>\n",
       "      <td>39</td>\n",
       "      <td>2017-12-23 22:15:32.156</td>\n",
       "      <td>calculateCaloriesWithCache totalCalories=126882</td>\n",
       "      <td>E4</td>\n",
       "      <td>2017-12-23</td>\n",
       "    </tr>\n",
       "  </tbody>\n",
       "</table>\n",
       "</div>"
      ],
      "text/plain": [
       "   LineId                     Time   \n",
       "0       9  2017-12-23 22:15:29.645  \\\n",
       "1      18  2017-12-23 22:15:29.959   \n",
       "2      25  2017-12-23 22:15:30.639   \n",
       "3      32  2017-12-23 22:15:31.157   \n",
       "4      39  2017-12-23 22:15:32.156   \n",
       "\n",
       "                                           Content EventId        Date  \n",
       "0  calculateCaloriesWithCache totalCalories=126775      E4  2017-12-23  \n",
       "1  calculateCaloriesWithCache totalCalories=126797      E4  2017-12-23  \n",
       "2  calculateCaloriesWithCache totalCalories=126818      E4  2017-12-23  \n",
       "3  calculateCaloriesWithCache totalCalories=126861      E4  2017-12-23  \n",
       "4  calculateCaloriesWithCache totalCalories=126882      E4  2017-12-23  "
      ]
     },
     "execution_count": 3,
     "metadata": {},
     "output_type": "execute_result"
    }
   ],
   "source": [
    "df.head()"
   ]
  },
  {
   "cell_type": "code",
   "execution_count": 4,
   "metadata": {},
   "outputs": [
    {
     "data": {
      "text/plain": [
       "LineId      int64\n",
       "Time       object\n",
       "Content    object\n",
       "EventId    object\n",
       "Date       object\n",
       "dtype: object"
      ]
     },
     "execution_count": 4,
     "metadata": {},
     "output_type": "execute_result"
    }
   ],
   "source": [
    "df.dtypes"
   ]
  },
  {
   "cell_type": "code",
   "execution_count": 5,
   "metadata": {},
   "outputs": [],
   "source": [
    "df['Content'] = df['Content'].astype(str)"
   ]
  },
  {
   "cell_type": "code",
   "execution_count": 6,
   "metadata": {},
   "outputs": [],
   "source": [
    "df['totalCalories'] = df['Content'].str.extract(r'=(\\d+)')"
   ]
  },
  {
   "cell_type": "code",
   "execution_count": 7,
   "metadata": {},
   "outputs": [],
   "source": [
    "df.drop(['EventId', 'Content', 'Date'], axis=1, inplace=True)"
   ]
  },
  {
   "cell_type": "code",
   "execution_count": 8,
   "metadata": {},
   "outputs": [],
   "source": [
    "df['Time'] = pd.to_datetime(df['Time'])"
   ]
  },
  {
   "cell_type": "code",
   "execution_count": 9,
   "metadata": {},
   "outputs": [
    {
     "data": {
      "text/html": [
       "<div>\n",
       "<style scoped>\n",
       "    .dataframe tbody tr th:only-of-type {\n",
       "        vertical-align: middle;\n",
       "    }\n",
       "\n",
       "    .dataframe tbody tr th {\n",
       "        vertical-align: top;\n",
       "    }\n",
       "\n",
       "    .dataframe thead th {\n",
       "        text-align: right;\n",
       "    }\n",
       "</style>\n",
       "<table border=\"1\" class=\"dataframe\">\n",
       "  <thead>\n",
       "    <tr style=\"text-align: right;\">\n",
       "      <th></th>\n",
       "      <th>LineId</th>\n",
       "      <th>Time</th>\n",
       "      <th>totalCalories</th>\n",
       "    </tr>\n",
       "  </thead>\n",
       "  <tbody>\n",
       "    <tr>\n",
       "      <th>0</th>\n",
       "      <td>9</td>\n",
       "      <td>2017-12-23 22:15:29.645</td>\n",
       "      <td>126775</td>\n",
       "    </tr>\n",
       "    <tr>\n",
       "      <th>1</th>\n",
       "      <td>18</td>\n",
       "      <td>2017-12-23 22:15:29.959</td>\n",
       "      <td>126797</td>\n",
       "    </tr>\n",
       "    <tr>\n",
       "      <th>2</th>\n",
       "      <td>25</td>\n",
       "      <td>2017-12-23 22:15:30.639</td>\n",
       "      <td>126818</td>\n",
       "    </tr>\n",
       "    <tr>\n",
       "      <th>3</th>\n",
       "      <td>32</td>\n",
       "      <td>2017-12-23 22:15:31.157</td>\n",
       "      <td>126861</td>\n",
       "    </tr>\n",
       "    <tr>\n",
       "      <th>4</th>\n",
       "      <td>39</td>\n",
       "      <td>2017-12-23 22:15:32.156</td>\n",
       "      <td>126882</td>\n",
       "    </tr>\n",
       "  </tbody>\n",
       "</table>\n",
       "</div>"
      ],
      "text/plain": [
       "   LineId                    Time totalCalories\n",
       "0       9 2017-12-23 22:15:29.645        126775\n",
       "1      18 2017-12-23 22:15:29.959        126797\n",
       "2      25 2017-12-23 22:15:30.639        126818\n",
       "3      32 2017-12-23 22:15:31.157        126861\n",
       "4      39 2017-12-23 22:15:32.156        126882"
      ]
     },
     "execution_count": 9,
     "metadata": {},
     "output_type": "execute_result"
    }
   ],
   "source": [
    "df.head()"
   ]
  },
  {
   "cell_type": "code",
   "execution_count": 10,
   "metadata": {},
   "outputs": [
    {
     "data": {
      "text/plain": [
       "array([[<Axes: title={'center': 'LineId'}>,\n",
       "        <Axes: title={'center': 'Time'}>]], dtype=object)"
      ]
     },
     "execution_count": 10,
     "metadata": {},
     "output_type": "execute_result"
    },
    {
     "data": {
      "image/png": "[encoded data removed]",
      "text/plain": [
       "<Figure size 2000x500 with 2 Axes>"
      ]
     },
     "metadata": {},
     "output_type": "display_data"
    }
   ],
   "source": [
    "df.hist(figsize=(20,5))"
   ]
  },
  {
   "cell_type": "code",
   "execution_count": 11,
   "metadata": {},
   "outputs": [],
   "source": [
    "sorted_df = df.sort_values(by='Time')"
   ]
  },
  {
   "cell_type": "code",
   "execution_count": 12,
   "metadata": {},
   "outputs": [
    {
     "data": {
      "text/plain": [
       "array([[<Axes: title={'center': 'LineId'}>,\n",
       "        <Axes: title={'center': 'Time'}>]], dtype=object)"
      ]
     },
     "execution_count": 12,
     "metadata": {},
     "output_type": "execute_result"
    },
    {
     "data": {
      "image/png": "[encoded data removed]",
      "text/plain": [
       "<Figure size 2000x500 with 2 Axes>"
      ]
     },
     "metadata": {},
     "output_type": "display_data"
    }
   ],
   "source": [
    "sorted_df.hist(figsize=(20,5))"
   ]
  },
  {
   "cell_type": "code",
   "execution_count": 19,
   "metadata": {},
   "outputs": [],
   "source": [
    "data2 = 'data/TotalDetailSteps_entry.csv'\n",
    "df2 = pd.read_csv(data2)"
   ]
  },
  {
   "cell_type": "code",
   "execution_count": 20,
   "metadata": {},
   "outputs": [
    {
     "data": {
      "text/html": [
       "<div>\n",
       "<style scoped>\n",
       "    .dataframe tbody tr th:only-of-type {\n",
       "        vertical-align: middle;\n",
       "    }\n",
       "\n",
       "    .dataframe tbody tr th {\n",
       "        vertical-align: top;\n",
       "    }\n",
       "\n",
       "    .dataframe thead th {\n",
       "        text-align: right;\n",
       "    }\n",
       "</style>\n",
       "<table border=\"1\" class=\"dataframe\">\n",
       "  <thead>\n",
       "    <tr style=\"text-align: right;\">\n",
       "      <th></th>\n",
       "      <th>LineId</th>\n",
       "      <th>Time</th>\n",
       "      <th>Content</th>\n",
       "      <th>EventId</th>\n",
       "      <th>Date</th>\n",
       "    </tr>\n",
       "  </thead>\n",
       "  <tbody>\n",
       "    <tr>\n",
       "      <th>0</th>\n",
       "      <td>7</td>\n",
       "      <td>2017-12-23 22:15:29.636</td>\n",
       "      <td>setTodayTotalDetailSteps=1514038440000##7007##...</td>\n",
       "      <td>E58</td>\n",
       "      <td>2017-12-23</td>\n",
       "    </tr>\n",
       "    <tr>\n",
       "      <th>1</th>\n",
       "      <td>17</td>\n",
       "      <td>2017-12-23 22:15:29.950</td>\n",
       "      <td>setTodayTotalDetailSteps=1514038440000##7008##...</td>\n",
       "      <td>E58</td>\n",
       "      <td>2017-12-23</td>\n",
       "    </tr>\n",
       "    <tr>\n",
       "      <th>2</th>\n",
       "      <td>24</td>\n",
       "      <td>2017-12-23 22:15:30.632</td>\n",
       "      <td>setTodayTotalDetailSteps=1514038440000##7009##...</td>\n",
       "      <td>E58</td>\n",
       "      <td>2017-12-23</td>\n",
       "    </tr>\n",
       "    <tr>\n",
       "      <th>3</th>\n",
       "      <td>31</td>\n",
       "      <td>2017-12-23 22:15:31.143</td>\n",
       "      <td>setTodayTotalDetailSteps=1514038440000##7011##...</td>\n",
       "      <td>E58</td>\n",
       "      <td>2017-12-23</td>\n",
       "    </tr>\n",
       "    <tr>\n",
       "      <th>4</th>\n",
       "      <td>38</td>\n",
       "      <td>2017-12-23 22:15:32.147</td>\n",
       "      <td>setTodayTotalDetailSteps=1514038440000##7012##...</td>\n",
       "      <td>E58</td>\n",
       "      <td>2017-12-23</td>\n",
       "    </tr>\n",
       "  </tbody>\n",
       "</table>\n",
       "</div>"
      ],
      "text/plain": [
       "   LineId                     Time   \n",
       "0       7  2017-12-23 22:15:29.636  \\\n",
       "1      17  2017-12-23 22:15:29.950   \n",
       "2      24  2017-12-23 22:15:30.632   \n",
       "3      31  2017-12-23 22:15:31.143   \n",
       "4      38  2017-12-23 22:15:32.147   \n",
       "\n",
       "                                             Content EventId        Date  \n",
       "0  setTodayTotalDetailSteps=1514038440000##7007##...     E58  2017-12-23  \n",
       "1  setTodayTotalDetailSteps=1514038440000##7008##...     E58  2017-12-23  \n",
       "2  setTodayTotalDetailSteps=1514038440000##7009##...     E58  2017-12-23  \n",
       "3  setTodayTotalDetailSteps=1514038440000##7011##...     E58  2017-12-23  \n",
       "4  setTodayTotalDetailSteps=1514038440000##7012##...     E58  2017-12-23  "
      ]
     },
     "execution_count": 20,
     "metadata": {},
     "output_type": "execute_result"
    }
   ],
   "source": [
    "df2.head()"
   ]
  },
  {
   "cell_type": "code",
   "execution_count": 21,
   "metadata": {},
   "outputs": [],
   "source": [
    "df2['Content'] = df2['Content'].astype(str)"
   ]
  },
  {
   "cell_type": "code",
   "execution_count": 28,
   "metadata": {},
   "outputs": [],
   "source": [
    "extracted_numbers = df2['Content'].str.extractall(r'(\\d+)').unstack()"
   ]
  },
  {
   "cell_type": "code",
   "execution_count": 29,
   "metadata": {},
   "outputs": [],
   "source": [
    "extracted_numbers.columns = [f'Number_{i}' for i in range(extracted_numbers.shape[1])]"
   ]
  },
  {
   "cell_type": "code",
   "execution_count": 37,
   "metadata": {},
   "outputs": [
    {
     "data": {
      "text/html": [
       "<div>\n",
       "<style scoped>\n",
       "    .dataframe tbody tr th:only-of-type {\n",
       "        vertical-align: middle;\n",
       "    }\n",
       "\n",
       "    .dataframe tbody tr th {\n",
       "        vertical-align: top;\n",
       "    }\n",
       "\n",
       "    .dataframe thead th {\n",
       "        text-align: right;\n",
       "    }\n",
       "</style>\n",
       "<table border=\"1\" class=\"dataframe\">\n",
       "  <thead>\n",
       "    <tr style=\"text-align: right;\">\n",
       "      <th></th>\n",
       "      <th>Number_0</th>\n",
       "      <th>Number_1</th>\n",
       "      <th>Number_2</th>\n",
       "      <th>Number_3</th>\n",
       "      <th>Number_4</th>\n",
       "      <th>Number_5</th>\n",
       "    </tr>\n",
       "  </thead>\n",
       "  <tbody>\n",
       "    <tr>\n",
       "      <th>0</th>\n",
       "      <td>1514038440000</td>\n",
       "      <td>7007</td>\n",
       "      <td>548365</td>\n",
       "      <td>8661</td>\n",
       "      <td>12361</td>\n",
       "      <td>27173954</td>\n",
       "    </tr>\n",
       "    <tr>\n",
       "      <th>1</th>\n",
       "      <td>1514038440000</td>\n",
       "      <td>7008</td>\n",
       "      <td>548365</td>\n",
       "      <td>8661</td>\n",
       "      <td>12456</td>\n",
       "      <td>27174269</td>\n",
       "    </tr>\n",
       "    <tr>\n",
       "      <th>2</th>\n",
       "      <td>1514038440000</td>\n",
       "      <td>7009</td>\n",
       "      <td>548365</td>\n",
       "      <td>8661</td>\n",
       "      <td>12551</td>\n",
       "      <td>27174951</td>\n",
       "    </tr>\n",
       "    <tr>\n",
       "      <th>3</th>\n",
       "      <td>1514038440000</td>\n",
       "      <td>7011</td>\n",
       "      <td>548365</td>\n",
       "      <td>8661</td>\n",
       "      <td>12646</td>\n",
       "      <td>27175461</td>\n",
       "    </tr>\n",
       "    <tr>\n",
       "      <th>4</th>\n",
       "      <td>1514038440000</td>\n",
       "      <td>7012</td>\n",
       "      <td>548365</td>\n",
       "      <td>8661</td>\n",
       "      <td>12741</td>\n",
       "      <td>27176464</td>\n",
       "    </tr>\n",
       "  </tbody>\n",
       "</table>\n",
       "</div>"
      ],
      "text/plain": [
       "        Number_0 Number_1 Number_2 Number_3 Number_4  Number_5\n",
       "0  1514038440000     7007   548365     8661    12361  27173954\n",
       "1  1514038440000     7008   548365     8661    12456  27174269\n",
       "2  1514038440000     7009   548365     8661    12551  27174951\n",
       "3  1514038440000     7011   548365     8661    12646  27175461\n",
       "4  1514038440000     7012   548365     8661    12741  27176464"
      ]
     },
     "execution_count": 37,
     "metadata": {},
     "output_type": "execute_result"
    }
   ],
   "source": [
    "extracted_numbers.head()\n",
    "#extracted_numbers.dtypes\n",
    "#extracted_numbers.co\n"
   ]
  },
  {
   "cell_type": "code",
   "execution_count": 40,
   "metadata": {},
   "outputs": [
    {
     "ename": "KeyError",
     "evalue": "'Number_0'",
     "output_type": "error",
     "traceback": [
      "\u001b[1;31m---------------------------------------------------------------------------\u001b[0m",
      "\u001b[1;31mKeyError\u001b[0m                                  Traceback (most recent call last)",
      "File \u001b[1;32mc:\\Users\\Admin\\miniconda3\\envs\\hands_on_ml\\Lib\\site-packages\\pandas\\core\\indexes\\base.py:3652\u001b[0m, in \u001b[0;36mIndex.get_loc\u001b[1;34m(self, key)\u001b[0m\n\u001b[0;32m   3651\u001b[0m \u001b[39mtry\u001b[39;00m:\n\u001b[1;32m-> 3652\u001b[0m     \u001b[39mreturn\u001b[39;00m \u001b[39mself\u001b[39;49m\u001b[39m.\u001b[39;49m_engine\u001b[39m.\u001b[39;49mget_loc(casted_key)\n\u001b[0;32m   3653\u001b[0m \u001b[39mexcept\u001b[39;00m \u001b[39mKeyError\u001b[39;00m \u001b[39mas\u001b[39;00m err:\n",
      "File \u001b[1;32mc:\\Users\\Admin\\miniconda3\\envs\\hands_on_ml\\Lib\\site-packages\\pandas\\_libs\\index.pyx:147\u001b[0m, in \u001b[0;36mpandas._libs.index.IndexEngine.get_loc\u001b[1;34m()\u001b[0m\n",
      "File \u001b[1;32mc:\\Users\\Admin\\miniconda3\\envs\\hands_on_ml\\Lib\\site-packages\\pandas\\_libs\\index.pyx:176\u001b[0m, in \u001b[0;36mpandas._libs.index.IndexEngine.get_loc\u001b[1;34m()\u001b[0m\n",
      "File \u001b[1;32mpandas\\_libs\\hashtable_class_helper.pxi:7080\u001b[0m, in \u001b[0;36mpandas._libs.hashtable.PyObjectHashTable.get_item\u001b[1;34m()\u001b[0m\n",
      "File \u001b[1;32mpandas\\_libs\\hashtable_class_helper.pxi:7088\u001b[0m, in \u001b[0;36mpandas._libs.hashtable.PyObjectHashTable.get_item\u001b[1;34m()\u001b[0m\n",
      "\u001b[1;31mKeyError\u001b[0m: 'Number_0'",
      "\nThe above exception was the direct cause of the following exception:\n",
      "\u001b[1;31mKeyError\u001b[0m                                  Traceback (most recent call last)",
      "\u001b[1;32mc:\\Users\\Admin\\Videos\\work\\job_app_projects\\netWestBanglore\\Calories_Analysis.ipynb Cell 19\u001b[0m line \u001b[0;36m4\n\u001b[0;32m      <a href='vscode-notebook-cell:/c%3A/Users/Admin/Videos/work/job_app_projects/netWestBanglore/Calories_Analysis.ipynb#X46sZmlsZQ%3D%3D?line=1'>2</a>\u001b[0m cols \u001b[39m=\u001b[39m [\u001b[39m'\u001b[39m\u001b[39mNumber_0\u001b[39m\u001b[39m'\u001b[39m, \u001b[39m'\u001b[39m\u001b[39mNumber_1\u001b[39m\u001b[39m'\u001b[39m, \u001b[39m'\u001b[39m\u001b[39mNumber_2\u001b[39m\u001b[39m'\u001b[39m, \u001b[39m'\u001b[39m\u001b[39mNumber_3\u001b[39m\u001b[39m'\u001b[39m, \u001b[39m'\u001b[39m\u001b[39mNumber_4\u001b[39m\u001b[39m'\u001b[39m, \u001b[39m'\u001b[39m\u001b[39mNumber_5\u001b[39m\u001b[39m'\u001b[39m] \n\u001b[0;32m      <a href='vscode-notebook-cell:/c%3A/Users/Admin/Videos/work/job_app_projects/netWestBanglore/Calories_Analysis.ipynb#X46sZmlsZQ%3D%3D?line=2'>3</a>\u001b[0m \u001b[39mfor\u001b[39;00m items \u001b[39min\u001b[39;00m cols :\n\u001b[1;32m----> <a href='vscode-notebook-cell:/c%3A/Users/Admin/Videos/work/job_app_projects/netWestBanglore/Calories_Analysis.ipynb#X46sZmlsZQ%3D%3D?line=3'>4</a>\u001b[0m     extracted_numbers[items] \u001b[39m=\u001b[39m pd\u001b[39m.\u001b[39mto_numeric(df[items])\n",
      "File \u001b[1;32mc:\\Users\\Admin\\miniconda3\\envs\\hands_on_ml\\Lib\\site-packages\\pandas\\core\\frame.py:3761\u001b[0m, in \u001b[0;36mDataFrame.__getitem__\u001b[1;34m(self, key)\u001b[0m\n\u001b[0;32m   3759\u001b[0m \u001b[39mif\u001b[39;00m \u001b[39mself\u001b[39m\u001b[39m.\u001b[39mcolumns\u001b[39m.\u001b[39mnlevels \u001b[39m>\u001b[39m \u001b[39m1\u001b[39m:\n\u001b[0;32m   3760\u001b[0m     \u001b[39mreturn\u001b[39;00m \u001b[39mself\u001b[39m\u001b[39m.\u001b[39m_getitem_multilevel(key)\n\u001b[1;32m-> 3761\u001b[0m indexer \u001b[39m=\u001b[39m \u001b[39mself\u001b[39;49m\u001b[39m.\u001b[39;49mcolumns\u001b[39m.\u001b[39;49mget_loc(key)\n\u001b[0;32m   3762\u001b[0m \u001b[39mif\u001b[39;00m is_integer(indexer):\n\u001b[0;32m   3763\u001b[0m     indexer \u001b[39m=\u001b[39m [indexer]\n",
      "File \u001b[1;32mc:\\Users\\Admin\\miniconda3\\envs\\hands_on_ml\\Lib\\site-packages\\pandas\\core\\indexes\\base.py:3654\u001b[0m, in \u001b[0;36mIndex.get_loc\u001b[1;34m(self, key)\u001b[0m\n\u001b[0;32m   3652\u001b[0m     \u001b[39mreturn\u001b[39;00m \u001b[39mself\u001b[39m\u001b[39m.\u001b[39m_engine\u001b[39m.\u001b[39mget_loc(casted_key)\n\u001b[0;32m   3653\u001b[0m \u001b[39mexcept\u001b[39;00m \u001b[39mKeyError\u001b[39;00m \u001b[39mas\u001b[39;00m err:\n\u001b[1;32m-> 3654\u001b[0m     \u001b[39mraise\u001b[39;00m \u001b[39mKeyError\u001b[39;00m(key) \u001b[39mfrom\u001b[39;00m \u001b[39merr\u001b[39;00m\n\u001b[0;32m   3655\u001b[0m \u001b[39mexcept\u001b[39;00m \u001b[39mTypeError\u001b[39;00m:\n\u001b[0;32m   3656\u001b[0m     \u001b[39m# If we have a listlike key, _check_indexing_error will raise\u001b[39;00m\n\u001b[0;32m   3657\u001b[0m     \u001b[39m#  InvalidIndexError. Otherwise we fall through and re-raise\u001b[39;00m\n\u001b[0;32m   3658\u001b[0m     \u001b[39m#  the TypeError.\u001b[39;00m\n\u001b[0;32m   3659\u001b[0m     \u001b[39mself\u001b[39m\u001b[39m.\u001b[39m_check_indexing_error(key)\n",
      "\u001b[1;31mKeyError\u001b[0m: 'Number_0'"
     ]
    }
   ],
   "source": [
    "#extracted_numbers.columns\n",
    "cols = ['Number_0', 'Number_1', 'Number_2', 'Number_3', 'Number_4', 'Number_5'] \n",
    "for items in cols :\n",
    "    extracted_numbers[items] = pd.to_numeric(df[items])"
   ]
  },
  {
   "cell_type": "code",
   "execution_count": null,
   "metadata": {},
   "outputs": [],
   "source": [
    "df3 = pd.concat(['df2', 'extracted_numbers'], axis=1)"
   ]
  },
  {
   "cell_type": "code",
   "execution_count": null,
   "metadata": {},
   "outputs": [],
   "source": []
  },
  {
   "cell_type": "code",
   "execution_count": null,
   "metadata": {},
   "outputs": [],
   "source": []
  }
 ],
 "metadata": {
  "kernelspec": {
   "display_name": "data_pipeline_1",
   "language": "python",
   "name": "python3"
  },
  "language_info": {
   "codemirror_mode": {
    "name": "ipython",
    "version": 3
   },
   "file_extension": ".py",
   "mimetype": "text/x-python",
   "name": "python",
   "nbconvert_exporter": "python",
   "pygments_lexer": "ipython3",
   "version": "3.11.3"
  },
  "orig_nbformat": 4
 },
 "nbformat": 4,
 "nbformat_minor": 2
}
